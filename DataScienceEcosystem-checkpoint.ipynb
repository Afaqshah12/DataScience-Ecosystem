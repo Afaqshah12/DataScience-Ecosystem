{
 "cells": [
  {
   "cell_type": "markdown",
   "id": "c4d0104b-2307-4cf1-aa10-f93637b75d8c",
   "metadata": {},
   "source": [
    "# Data Science Ecosystem"
   ]
  },
  {
   "cell_type": "markdown",
   "id": "28e463a0-f428-445c-bc1b-f3c75cc1d080",
   "metadata": {},
   "source": [
    "## Introduction\n",
    "\n",
    "Data Science is the Science of Data where we extract information from Raw data to solve Business Problem"
   ]
  },
  {
   "cell_type": "markdown",
   "id": "60f1a888-ba0b-49ca-9c85-acdf29b79382",
   "metadata": {},
   "source": [
    "## Data Science Languages\n",
    "Some of the popular Programming languages for Data Science are : \n",
    "\n",
    "* Python \n",
    "* R\n",
    "* Julia\n",
    "* C++"
   ]
  },
  {
   "cell_type": "markdown",
   "id": "5bc667c7-f9d3-495f-869f-ec149ec0c134",
   "metadata": {},
   "source": [
    "## Data Science Libraries\n",
    "Some of the commonly used libraries used by Data Scientists include:\n",
    "* Pandas\n",
    "* Numpy\n",
    "* Matplotlib\n",
    "* Scikit Learn"
   ]
  },
  {
   "cell_type": "markdown",
   "id": "a6808426-327c-41f7-965d-7e431213c6a8",
   "metadata": {},
   "source": [
    "## Data Science Tools\n",
    "* Jupyter Notebook\n",
    "* R Studio\n",
    "* Watson Studio"
   ]
  },
  {
   "cell_type": "markdown",
   "id": "c057b66e-473f-40e9-a680-1264f9b6db4b",
   "metadata": {},
   "source": [
    "## Arthematic Expressions\n",
    "Following are the few expamples of Arthemetic Expressions\n",
    "\n",
    "a=1,b=2\n",
    "c=a+b\n",
    "\n",
    "a=2,b=1\n",
    "c=a-b\n",
    "\n",
    "a=10,b=5\n",
    "c=a/b\n",
    "\n",
    "a=2,b=2\n",
    "c=a*b\n",
    "\n"
   ]
  },
  {
   "cell_type": "code",
   "execution_count": 5,
   "id": "2916642b-d71f-4c54-b6ad-123a95c084cd",
   "metadata": {},
   "outputs": [
    {
     "name": "stdout",
     "output_type": "stream",
     "text": [
      "4\n",
      "5\n"
     ]
    }
   ],
   "source": [
    "## Adding and multiplying numbers\n",
    "a= 15\n",
    "b=2\n",
    "result=a*b\n",
    "print(result)\n",
    "\n",
    "a= 3\n",
    "b=2\n",
    "result=a+b\n",
    "print(result)"
   ]
  },
  {
   "cell_type": "code",
   "execution_count": 2,
   "id": "53bd8f51-0380-4782-8eaf-fe10427162b7",
   "metadata": {},
   "outputs": [
    {
     "name": "stdout",
     "output_type": "stream",
     "text": [
      "Hours  :  3.3333333333333335\n"
     ]
    }
   ],
   "source": [
    "## Minutes to Hours\n",
    "\n",
    "m=200\n",
    "h=m/60\n",
    "\n",
    "print(\"Hours  : \",h)"
   ]
  },
  {
   "cell_type": "markdown",
   "id": "96fa06c8-25e3-470d-a4e2-b83bddc10a13",
   "metadata": {},
   "source": [
    "## Objectives\n",
    "* Add Comments\n",
    "* Create Markdown\n",
    "* Create Code cells"
   ]
  },
  {
   "cell_type": "markdown",
   "id": "ed40d77b-42d0-4209-be17-d7a3f4aeca0c",
   "metadata": {},
   "source": [
    "## Authors Name\n",
    "\n",
    "* Syed Afaq Shah"
   ]
  },
  {
   "cell_type": "code",
   "execution_count": null,
   "id": "cc401713-2046-4032-b318-1c3a4bc34892",
   "metadata": {},
   "outputs": [],
   "source": []
  }
 ],
 "metadata": {
  "kernelspec": {
   "display_name": "Python 3 (ipykernel)",
   "language": "python",
   "name": "python3"
  },
  "language_info": {
   "codemirror_mode": {
    "name": "ipython",
    "version": 3
   },
   "file_extension": ".py",
   "mimetype": "text/x-python",
   "name": "python",
   "nbconvert_exporter": "python",
   "pygments_lexer": "ipython3",
   "version": "3.11.4"
  }
 },
 "nbformat": 4,
 "nbformat_minor": 5
}
